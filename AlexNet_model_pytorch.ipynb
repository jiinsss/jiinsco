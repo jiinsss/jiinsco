{
  "nbformat": 4,
  "nbformat_minor": 0,
  "metadata": {
    "colab": {
      "name": "AlexNet_model_pytorch",
      "private_outputs": true,
      "provenance": [],
      "collapsed_sections": []
    },
    "kernelspec": {
      "name": "python3",
      "display_name": "Python 3"
    },
    "language_info": {
      "name": "python"
    }
  },
  "cells": [
    {
      "cell_type": "code",
      "execution_count": null,
      "metadata": {
        "id": "_OIibA9BQwDH"
      },
      "outputs": [],
      "source": [
        "import torch\n",
        "import torch.nn as nn\n",
        "from .utils import load_state_dict_from_url\n",
        "from typing import Any\n",
        "\n",
        "\n",
        "__all__ = ['AlexNet', 'alexnet']\n",
        "\n",
        "\n",
        "model_urls = {\n",
        "    'alexnet': 'https://download.pytorch.org/models/alexnet-owt-4df8aa71.pth',\n",
        "}\n",
        "\n",
        "\n",
        "class AlexNet(nn.Module):\n",
        "\n",
        "    def __init__(self, num_classes: int = 1000) -> None:\n",
        "        super(AlexNet, self).__init__()\n",
        "        #특징추출\n",
        "        self.features = nn.Sequential(\n",
        "            #Conv1\n",
        "            #input channel : 3 (rgb 3채널) , output channel : 64, kernel_size : 11, stride : 4, padding : 2\n",
        "            nn.Conv2d(3, 64, kernel_size=11, stride=4, padding=2),\n",
        "            nn.ReLU(inplace=True), # inplace=True 하면, inplace 연산을 수행함(교체), inplace 연산은 결과값을 새로운 변수에 값을 저장하는 대신 기존의 데이터를 대체하는것을 의미\n",
        "            #Max Pool1\n",
        "            nn.MaxPool2d(kernel_size=3, stride=2),\n",
        "            #Conv2\n",
        "            nn.Conv2d(64, 192, kernel_size=5, padding=2),\n",
        "            nn.ReLU(inplace=True),\n",
        "            #Max Pool2\n",
        "            nn.MaxPool2d(kernel_size=3, stride=2),\n",
        "            #Conv3\n",
        "            nn.Conv2d(192, 384, kernel_size=3, padding=1),\n",
        "            nn.ReLU(inplace=True),\n",
        "            ##Conv4\n",
        "            nn.Conv2d(384, 256, kernel_size=3, padding=1),\n",
        "            nn.ReLU(inplace=True),\n",
        "            #Conv5\n",
        "            nn.Conv2d(256, 256, kernel_size=3, padding=1),\n",
        "            nn.ReLU(inplace=True),\n",
        "            #Max Pool3\n",
        "            nn.MaxPool2d(kernel_size=3, stride=2),\n",
        "        )\n",
        "        self.avgpool = nn.AdaptiveAvgPool2d((6, 6))\n",
        "        #분류\n",
        "        #시퀀셜 형태로 layer을 쌓을거임\n",
        "        self.classifier = nn.Sequential(\n",
        "            #드롭아웃 \n",
        "            nn.Dropout(), \n",
        "            nn.Linear(256 * 6 * 6, 4096), #fully connected layer를 linear로 쌓음\n",
        "            nn.ReLU(inplace=True),\n",
        "            nn.Dropout(),\n",
        "            nn.Linear(4096, 4096),\n",
        "            nn.ReLU(inplace=True),\n",
        "            nn.Linear(4096, num_classes), #최종 분류 층, 사용하려는 전체 클래스 개수와 맞춰줌(output num_class)\n",
        "        )\n",
        "        \n",
        "        #이미지가 들어왔을때 어떤 순서를 거쳐 진행되는지 forward함수로 지정해줌\n",
        "    def forward(self, x: torch.Tensor) -> torch.Tensor:\n",
        "        #특징 추출 부분\n",
        "        x = self.features(x)\n",
        "       \n",
        "        x = self.avgpool(x)\n",
        "        #output shape : (batch size * 256(channel), 6, 6)\n",
        "        #Flatten\n",
        "        x = torch.flatten(x, 1) #한 배치마다 특징을 펼쳐서\n",
        "        #output shape (batch_size, 256 * 6* 6)\n",
        "        #분류 \n",
        "        x = self.classifier(x) #분류\n",
        "        return x\n",
        "\n",
        "#init으로 사전학습된 모델을 갖고올지 말지 boolean, \n",
        "def alexnet(pretrained: bool = False, progress: bool = True, **kwargs: Any) -> AlexNet:\n",
        "    r\"\"\"AlexNet model architecture from the\n",
        "    `\"One weird trick...\" <https://arxiv.org/abs/1404.5997>`_ paper.\n",
        "    Args:\n",
        "        pretrained (bool): If True, returns a model pre-trained on ImageNet\n",
        "        progress (bool): If True, displays a progress bar of the download to stderr\n",
        "    \"\"\"\n",
        "    #모델에 alexnet넣어줌\n",
        "    model = AlexNet(**kwargs)\n",
        "    if pretrained:\n",
        "        state_dict = load_state_dict_from_url(model_urls['alexnet'],\n",
        "                                              progress=progress)\n",
        "        model.load_state_dict(state_dict)\n",
        "    return model"
      ]
    },
    {
      "cell_type": "code",
      "source": [
        ""
      ],
      "metadata": {
        "id": "PYIRZAsKR4w8"
      },
      "execution_count": null,
      "outputs": []
    }
  ]
}